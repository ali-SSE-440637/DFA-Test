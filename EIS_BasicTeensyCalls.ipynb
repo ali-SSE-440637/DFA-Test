{
 "cells": [
  {
   "cell_type": "code",
   "execution_count": 1,
   "metadata": {},
   "outputs": [
    {
     "name": "stdout",
     "output_type": "stream",
     "text": [
      "Requirement already satisfied: pyserial in /Library/Frameworks/Python.framework/Versions/3.10/lib/python3.10/site-packages (3.5)\n",
      "\u001b[33mWARNING: You are using pip version 21.3; however, version 21.3.1 is available.\n",
      "You should consider upgrading via the '/Library/Frameworks/Python.framework/Versions/3.10/bin/python3.10 -m pip install --upgrade pip' command.\u001b[0m\n",
      "Note: you may need to restart the kernel to use updated packages.\n"
     ]
    }
   ],
   "source": []
  },
  {
   "cell_type": "code",
   "execution_count": 3,
   "metadata": {},
   "outputs": [
    {
     "ename": "AttributeError",
     "evalue": "module 'serial' has no attribute 'version'",
     "output_type": "error",
     "traceback": [
      "\u001b[0;31m---------------------------------------------------------------------------\u001b[0m",
      "\u001b[0;31mAttributeError\u001b[0m                            Traceback (most recent call last)",
      "\u001b[0;32m/var/folders/5_/50m1bf4n461dlrfxqf3x3my80000gn/T/ipykernel_28194/3221793503.py\u001b[0m in \u001b[0;36m<module>\u001b[0;34m\u001b[0m\n\u001b[1;32m      1\u001b[0m \u001b[0;32mimport\u001b[0m \u001b[0mserial\u001b[0m\u001b[0;34m\u001b[0m\u001b[0;34m\u001b[0m\u001b[0m\n\u001b[0;32m----> 2\u001b[0;31m \u001b[0mprint\u001b[0m\u001b[0;34m(\u001b[0m\u001b[0mserial\u001b[0m\u001b[0;34m.\u001b[0m\u001b[0mversion\u001b[0m\u001b[0;34m)\u001b[0m\u001b[0;34m\u001b[0m\u001b[0;34m\u001b[0m\u001b[0m\n\u001b[0m",
      "\u001b[0;31mAttributeError\u001b[0m: module 'serial' has no attribute 'version'"
     ]
    }
   ],
   "source": [
    "import serial\n",
    ">>> "
   ]
  },
  {
   "cell_type": "code",
   "execution_count": 19,
   "metadata": {},
   "outputs": [],
   "source": [
    "import serial \n",
    "import numpy as np\n",
    "from time import sleep\n",
    "import sys\n",
    "import json\n"
   ]
  },
  {
   "cell_type": "code",
   "execution_count": null,
   "metadata": {},
   "outputs": [],
   "source": [
    "\n",
    "\n"
   ]
  },
  {
   "cell_type": "code",
   "execution_count": null,
   "metadata": {},
   "outputs": [],
   "source": []
  },
  {
   "cell_type": "code",
   "execution_count": 20,
   "metadata": {},
   "outputs": [
    {
     "name": "stdout",
     "output_type": "stream",
     "text": [
      "/dev/cu.usbmodem102678501\n"
     ]
    }
   ],
   "source": [
    "COM = '/dev/cu.usbmodem102678501'  # /dev/ttyACM0 (Linux)\n",
    "BAUD = 115200\n",
    "\n",
    "ser = serial.Serial(COM, BAUD, timeout = .1)\n",
    "\n",
    "print(ser.name)"
   ]
  },
  {
   "cell_type": "code",
   "execution_count": 21,
   "metadata": {},
   "outputs": [],
   "source": [
    "def get_and_print_responses(serial_device, print_response = False):\n",
    "    '''\n",
    "        Retrieve messages written by the teensy to the \n",
    "        serial connection under the assumption that the output is \n",
    "        utf-8 encoded. If this assumption is violated the resulting \n",
    "        exception is printed and an empty string is returned.\n",
    "    '''\n",
    "    response = 'No response'\n",
    "    ret = ''\n",
    "    while response != '':\n",
    "        response  = serial_device.readline()\n",
    "        try:\n",
    "            response = response.decode('utf-8') \n",
    "            ret += response   \n",
    "        except Exception as e:\n",
    "            print(f'Exception: {e} \\nResponse: {response}')\n",
    "            ret = ''\n",
    "            \n",
    "        if print_response:\n",
    "            print(response)\n",
    "    return ret"
   ]
  },
  {
   "cell_type": "code",
   "execution_count": 22,
   "metadata": {},
   "outputs": [
    {
     "name": "stdout",
     "output_type": "stream",
     "text": [
      "Stimulus amplitude set to 0.200000\r\n",
      "\n"
     ]
    }
   ],
   "source": [
    "# \"A\" Change the output amplitude used for the measuremnt\n",
    "ser.write(\"A0.2\\n\".encode('utf8'))\n",
    "response = get_and_print_responses(ser)\n",
    "print(response)"
   ]
  },
  {
   "cell_type": "code",
   "execution_count": 23,
   "metadata": {},
   "outputs": [
    {
     "name": "stdout",
     "output_type": "stream",
     "text": [
      "Board: Teensy 3.5, BUS frequency: 60, CPU frequency: 120\r\n",
      "\n"
     ]
    }
   ],
   "source": [
    "# \"B\" return hardware parameters out: Boardname, bus frequency and CPU frequency\n",
    "ser.write(\"B\\n\".encode('utf8'))\n",
    "response = get_and_print_responses(ser)\n",
    "print(response)"
   ]
  },
  {
   "cell_type": "code",
   "execution_count": 24,
   "metadata": {},
   "outputs": [
    {
     "name": "stdout",
     "output_type": "stream",
     "text": [
      "Stimulus frequency set to: 25.000000\r\n",
      "\n"
     ]
    }
   ],
   "source": [
    "# \"F<freq>\\n\" Set the DAC output frequency used during a measurement\n",
    "ser.write(\"F25\\n\".encode('utf8'))\n",
    "response = get_and_print_responses(ser)\n",
    "print(response)"
   ]
  },
  {
   "cell_type": "code",
   "execution_count": 25,
   "metadata": {},
   "outputs": [
    {
     "name": "stdout",
     "output_type": "stream",
     "text": [
      "Max value adc0:65535\r\n",
      "Max value adc1:65535\r\n",
      "\n"
     ]
    }
   ],
   "source": [
    "# \"R\\n\" Get the ADC resolutions\n",
    "ser.write(\"R\\n\".encode('utf8'))\n",
    "response = get_and_print_responses(ser)\n",
    "print(response)"
   ]
  },
  {
   "cell_type": "code",
   "execution_count": 26,
   "metadata": {},
   "outputs": [
    {
     "name": "stdout",
     "output_type": "stream",
     "text": [
      "Sampling frequency for measuremnt set to 1000.000000\r\n",
      "DEBUG: DAC Enabled\r\n",
      "{\"stimulus_parameters_valid\":0,\"length\":2000,\"digital_amplitude\":399.80,\"f_stimulus\":25.00,\"f_sampling\":1000.00,\"stimulus_duration\":2000.00,\"ADC_averaging_number\":1}\n"
     ]
    }
   ],
   "source": [
    "# \"G<samplefreq>\\n\" Acquire data at <samplefreq>\n",
    "ser.write(\"G1000\\n\".encode('utf8'))\n",
    "ser.write(\"M\\n\".encode('utf8'))\n",
    "response = get_and_print_responses(ser)\n",
    "print(response)"
   ]
  },
  {
   "cell_type": "code",
   "execution_count": 27,
   "metadata": {
    "scrolled": false
   },
   "outputs": [
    {
     "name": "stdout",
     "output_type": "stream",
     "text": [
      "b'Q5\\n'\n",
      "DEBUG: DAC Disabled\n",
      "DONE: 0, stimulus_length: 2000, p1: 2000DEBUG: DAC Enabled\n",
      "DAC set to:5.00\n",
      "Channel 0 differential:39\n",
      "Channel 1 single:8519934\n",
      "\n",
      "b'Q414\\n'\n",
      "DEBUG: DAC Enabled\n",
      "DAC set to:414.00\n",
      "Channel 0 differential:3812\n",
      "Channel 1 single:8519934\n",
      "\n",
      "b'Q823\\n'\n",
      "DEBUG: DAC Enabled\n",
      "DAC set to:823.00\n",
      "Channel 0 differential:7577\n",
      "Channel 1 single:8519934\n",
      "\n",
      "b'Q1232\\n'\n",
      "DEBUG: DAC Enabled\n",
      "DAC set to:1232.00\n",
      "Channel 0 differential:11340\n",
      "Channel 1 single:8519934\n",
      "\n",
      "b'Q1641\\n'\n",
      "DEBUG: DAC Enabled\n",
      "DAC set to:1641.00\n",
      "Channel 0 differential:15123\n",
      "Channel 1 single:8519934\n",
      "\n",
      "b'Q2050\\n'\n",
      "DEBUG: DAC Enabled\n",
      "DAC set to:2050.00\n",
      "Channel 0 differential:18904\n",
      "Channel 1 single:8519934\n",
      "\n",
      "b'Q2459\\n'\n",
      "DEBUG: DAC Enabled\n",
      "DAC set to:2459.00\n",
      "Channel 0 differential:22679\n",
      "Channel 1 single:8519934\n",
      "\n",
      "b'Q2868\\n'\n",
      "DEBUG: DAC Enabled\n",
      "DAC set to:2868.00\n",
      "Channel 0 differential:26430\n",
      "Channel 1 single:8519934\n",
      "\n",
      "b'Q3277\\n'\n",
      "DEBUG: DAC Enabled\n",
      "DAC set to:3277.00\n",
      "Channel 0 differential:30173\n",
      "Channel 1 single:8519934\n",
      "\n",
      "b'Q3686\\n'\n",
      "DEBUG: DAC Enabled\n",
      "DAC set to:3686.00\n",
      "Channel 0 differential:33940\n",
      "Channel 1 single:8519934\n",
      "\n",
      "b'Q4095\\n'\n",
      "DEBUG: DAC Enabled\n",
      "DAC set to:4095.00\n",
      "Channel 0 differential:37063\n",
      "Channel 1 single:8519934\n",
      "\n",
      "DEBUG: DAC Enabled\n",
      "\n"
     ]
    }
   ],
   "source": [
    "# \"Q<level>\\n\"  \n",
    "for Vout in range(5, 4096, 409):\n",
    "    print(f\"Q{Vout}\\n\".encode('utf8'))\n",
    "    ser.write(f\"Q{Vout}\\n\".encode('utf8'))\n",
    "    sleep(1)\n",
    "    print(get_and_print_responses(ser))\n",
    "    \n",
    "ser.write(f\"Q0\\n\".encode('utf8'))   # Switch it back-off\n",
    "print(get_and_print_responses(ser))"
   ]
  },
  {
   "cell_type": "code",
   "execution_count": 28,
   "metadata": {},
   "outputs": [
    {
     "data": {
      "text/plain": [
       "'DAC set to:0.00\\r\\nChannel 0 differential:22\\r\\nChannel 1 single:8519934\\r\\nDEBUG: DAC Enabled\\r\\n'"
      ]
     },
     "execution_count": 28,
     "metadata": {},
     "output_type": "execute_result"
    }
   ],
   "source": [
    "ser.write(f\"Q0\\n\".encode('utf8'))   # Switch it back-off    \n",
    "get_and_print_responses(ser)"
   ]
  },
  {
   "cell_type": "code",
   "execution_count": 29,
   "metadata": {},
   "outputs": [
    {
     "data": {
      "text/plain": [
       "'DAC set to:0.00\\r\\nChannel 0 differential:19\\r\\nChannel 1 single:8519934\\r\\nDEBUG: measureOCP disabled \\r\\n'"
      ]
     },
     "execution_count": 29,
     "metadata": {},
     "output_type": "execute_result"
    }
   ],
   "source": [
    "# \"Z\\n\" Perform OCP measurement\n",
    "ser.write(\"Z\\n\".encode('utf8'))\n",
    "get_and_print_responses(ser)"
   ]
  },
  {
   "cell_type": "code",
   "execution_count": 30,
   "metadata": {},
   "outputs": [
    {
     "data": {
      "text/plain": [
       "'Max value adc0:65535\\r\\nMax value adc1:65535\\r\\n'"
      ]
     },
     "execution_count": 30,
     "metadata": {},
     "output_type": "execute_result"
    }
   ],
   "source": [
    "# \"R\\n\" \n",
    "ser.write(\"R2600\\n\".encode('utf8'))\n",
    "get_and_print_responses(ser)"
   ]
  },
  {
   "cell_type": "code",
   "execution_count": 31,
   "metadata": {},
   "outputs": [
    {
     "data": {
      "text/plain": [
       "''"
      ]
     },
     "execution_count": 31,
     "metadata": {},
     "output_type": "execute_result"
    }
   ],
   "source": [
    "\n",
    "get_and_print_responses(ser)"
   ]
  },
  {
   "cell_type": "code",
   "execution_count": 32,
   "metadata": {},
   "outputs": [
    {
     "name": "stdout",
     "output_type": "stream",
     "text": [
      "b'T4095\\n'\n"
     ]
    },
    {
     "data": {
      "text/plain": [
       "'DEBUG: DAC Enabled\\r\\nTransient DAC value requested: '"
      ]
     },
     "execution_count": 32,
     "metadata": {},
     "output_type": "execute_result"
    }
   ],
   "source": [
    "Vout =4095\n",
    "print(f\"T{Vout:04}\\n\".encode('utf8'))\n",
    "ser.write(f\"T{Vout:04}\\n\".encode('utf8'))\n",
    "get_and_print_responses(ser)\n"
   ]
  },
  {
   "cell_type": "code",
   "execution_count": null,
   "metadata": {},
   "outputs": [],
   "source": []
  }
 ],
 "metadata": {
  "kernelspec": {
   "display_name": "Python 3 (ipykernel)",
   "language": "python",
   "name": "python3"
  },
  "language_info": {
   "codemirror_mode": {
    "name": "ipython",
    "version": 3
   },
   "file_extension": ".py",
   "mimetype": "text/x-python",
   "name": "python",
   "nbconvert_exporter": "python",
   "pygments_lexer": "ipython3",
   "version": "3.10.0"
  }
 },
 "nbformat": 4,
 "nbformat_minor": 4
}
