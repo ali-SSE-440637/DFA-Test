{
 "cells": [
  {
   "cell_type": "code",
   "execution_count": 4,
   "metadata": {},
   "outputs": [
    {
     "name": "stdout",
     "output_type": "stream",
     "text": [
      "Help on class EIS in module EIS:\n",
      "\n",
      "class EIS(builtins.object)\n",
      " |  EIS(COM, BAUD=115200, timeout=0.1)\n",
      " |  \n",
      " |  Methods defined here:\n",
      " |  \n",
      " |  __init__(self, COM, BAUD=115200, timeout=0.1)\n",
      " |      Initialize self.  See help(type(self)) for accurate signature.\n",
      " |  \n",
      " |  get_and_print_responses(self, print_response=False)\n",
      " |      Retrieve messages written by the teensy to the \n",
      " |      serial connection under the assumption that the output is \n",
      " |      utf-8 encoded. If this assumption is violated the resulting \n",
      " |      exception is printed and an empty string is returned.\n",
      " |  \n",
      " |  get_data(self, stimulus_parameters, adc_type)\n",
      " |      This function can be used to get all the measured data for a single subtype.\n",
      " |      \n",
      " |      Parameters:\n",
      " |          \n",
      " |          stimulus_parameters: contains metadata on the stimulus.\n",
      " |          \n",
      " |          adc_type: 1. V1 \n",
      " |                    2. V2\n",
      " |                    3. DAC stimulus\n",
      " |          \n",
      " |      Output:\n",
      " |      \n",
      " |          data: a numpy array of the correct type (see adc_np_type_map) containing\n",
      " |          the full measurement sequence for a single type.\n",
      " |  \n",
      " |  get_data_slice(self, adc_type, start_pos)\n",
      " |      This function can be used to get a slice of the measured data.\n",
      " |      \n",
      " |      Parameters:\n",
      " |              \n",
      " |          adc_type: 1. V1 \n",
      " |                    2. V2\n",
      " |                    3. DAC stimulus\n",
      " |              \n",
      " |          start_pos: sample at which to start the data request. \n",
      " |          \n",
      " |      Output:\n",
      " |      \n",
      " |          dataslice: A dictionary containing three key-value pairs: 'start', 'end' \n",
      " |                           and 'data'. The value of 'start' is the value of the parameter \n",
      " |                           start_pos, the value of 'end' is the index of the first sample \n",
      " |                           that is not returned (to be used as start_pos in the next call), \n",
      " |                           the value of the 'data' property  contains the measured data \n",
      " |                           as a list.\n",
      " |  \n",
      " |  get_stimulus_parameters(self)\n",
      " |      This function can be used to get all the stimulus parameters.\n",
      " |             \n",
      " |      Output:\n",
      " |      \n",
      " |          stimulus_parameters: \n",
      " |              dictionary with metadata on the stimulus, available keys:\n",
      " |                   'stimulus_parameters_valid': \n",
      " |                          0 (False) or 1 (True) indicates whether \n",
      " |                          data in buffers are from measurement for these \n",
      " |                           stimulus settings\n",
      " |                   'length': \n",
      " |                          length of the stimulus and the measured data\n",
      " |                   'digital_amplitude':\n",
      " |                          Amplitude of DAC input\n",
      " |                   'f_stimulus': \n",
      " |                          stimulus frequency DAC\n",
      " |                   'f_sampling': \n",
      " |                          sampling frequency DAC and ADC\n",
      " |                   'stimulus_duration': \n",
      " |                          stimulus duraction in seconds\n",
      " |                   'ADC_averaging_number': \n",
      " |                          averaging over samples in ADC\n",
      " |  \n",
      " |  measure_spectrum(self, f_range, DC_offset=2048, A_stimulus=0.6, f_sampling=10000, Rs=1000, process_measurement=None)\n",
      " |      This function can be called to measure a complete impedance spectrum.\n",
      " |      \n",
      " |      Parameters:\n",
      " |                  f_range: \n",
      " |                      list or numpy array with frequencies at which to probeb the system\n",
      " |                  DC_offset = 2048: \n",
      " |                      output range of teensy is positive, so we need to offset a sinusoid by a \n",
      " |                      fixed value to keep it in range.\n",
      " |                  A_stimulus = 0.6: \n",
      " |                      amplitude specified as part of the maximum allowed offset\n",
      " |                  f_sampling = 10000: \n",
      " |                      sampling frequency in samples per second\n",
      " |                  Rs= 1000: \n",
      " |                      value of the shunt resistor, see wiring folder for proposed circuits\n",
      " |                  process_measurement=estimate_impedance: \n",
      " |                      function to calculate impedance based on the frequency response \n",
      " |      \n",
      " |      Output:\n",
      " |          spectrum: a list containing for each frequency in f_range the \n",
      " |              output of estimate_impedance.\n",
      " |  \n",
      " |  set_stimulus_parameters(self, f_stimulus, DC_offset=2048, A_stimulus=0.6, f_sampling=10000, print_response=False)\n",
      " |      Method to set the stimulus parameters used in a single measurement.\n",
      " |      \n",
      " |      Parameters:\n",
      " |            f_stimulus:  frequency in Hz of the stimulus used\n",
      " |            DC_offset = 2048: \n",
      " |                output range of teensy is positive, so we need to offset a sinusoid by a \n",
      " |                fixed value to keep it in range.\n",
      " |            A_stimulus = 0.6: \n",
      " |                amplitude specified as part of the maximum allowed offset\n",
      " |            f_sampling = 10000: \n",
      " |                sampling frequency in samples per second  \n",
      " |            print_response = False: if True responses retrieved from teensy are printed\n",
      " |  \n",
      " |  ----------------------------------------------------------------------\n",
      " |  Static methods defined here:\n",
      " |  \n",
      " |  estimate_impedance(Rs, f_stim, f_samp, V1, V2, DAC)\n",
      " |      Estimate the frequency response at the stimulus frequency.\n",
      " |      \n",
      " |      Parameters:\n",
      " |          Rs: shunt resistance\n",
      " |          f_stim: stimulus frequency\n",
      " |          f_samp: sampling frequency\n",
      " |          V1: measured V1 data\n",
      " |          V2: measured V2 data\n",
      " |          DAC: signal provided to DAC\n",
      " |          \n",
      " |      Output:\n",
      " |          Z: impedance at frequency f_stim\n",
      " |          V1_1, V1_2, V1_0: fit parameters for equation 6 from referenced paper\n",
      " |          V2_1, V2_2, V2_0: fit parameters for equation 7 from referenced paper\n",
      " |      \n",
      " |      'Electrochemical Impedance Spectroscopy System Based on a Teensy Board',\n",
      " |      Leila Es Sebar, Leonardo Iannucci, Emma Angelini, Sabrina Grassini, and Marco Parvis,\n",
      " |      IEEE TRANSACTIONS ON INSTRUMENTATION AND MEASUREMENT, VOL. 70, 2021\n",
      " |      \n",
      " |      Here we implement equations 6, 7 and 8 of this paper.\n",
      " |      \n",
      " |      Still needs a resistor and stimulus amplitude correction.\n",
      " |  \n",
      " |  ----------------------------------------------------------------------\n",
      " |  Data descriptors defined here:\n",
      " |  \n",
      " |  __dict__\n",
      " |      dictionary for instance variables (if defined)\n",
      " |  \n",
      " |  __weakref__\n",
      " |      list of weak references to the object (if defined)\n",
      " |  \n",
      " |  ----------------------------------------------------------------------\n",
      " |  Data and other attributes defined here:\n",
      " |  \n",
      " |  adc_np_type_map = {1: <class 'numpy.int16'>, 2: <class 'numpy.uint16'>...\n",
      "\n"
     ]
    }
   ],
   "source": [
    "from EIS import EIS\n",
    "import numpy as np\n",
    "\n",
    "help(EIS)"
   ]
  },
  {
   "cell_type": "code",
   "execution_count": 5,
   "metadata": {},
   "outputs": [
    {
     "name": "stdout",
     "output_type": "stream",
     "text": [
      "/dev/cu.usbmodem102678501\n"
     ]
    }
   ],
   "source": [
    "# Specify COM port to which teensy is attached\n",
    "COM = '/dev/cu.usbmodem102678501'  # /dev/ttyACM0 (Linux)\n",
    "\n",
    "# ... and start an EIS instance \n",
    "myEIS = EIS(COM) \n",
    "\n",
    "print(myEIS.serial.name)"
   ]
  },
  {
   "cell_type": "code",
   "execution_count": 32,
   "metadata": {
    "scrolled": true
   },
   "outputs": [
    {
     "name": "stdout",
     "output_type": "stream",
     "text": [
      "\n",
      "--------------------------------------------\n",
      "Stimulus amplitude set to 0.600000\n",
      "\n",
      "Sampling frequency for measuremnt set to 25000.000000\n",
      "\n",
      "Stimulus DCValue set to 2048\n",
      "\n",
      "Stimulus frequency set to: 0.000000\n",
      "\n",
      "Measure at frequency 0\n",
      ".{'stimulus_parameters_valid': 1, 'length': 2000, 'digital_amplitude': 1227.6, 'f_stimulus': 0.0, 'f_sampling': 25000.0, 'stimulus_duration': 80.0, 'ADC_averaging_number': 4}\n",
      "\n",
      "--------------------------------------------\n",
      "Stimulus amplitude set to 0.600000\n",
      "\n",
      "Sampling frequency for measuremnt set to 25000.000000\n",
      "\n",
      "Stimulus DCValue set to 2048\n",
      "\n",
      "Stimulus frequency set to: 1000.000000\n",
      "\n",
      "Measure at frequency 1000\n",
      ".{'stimulus_parameters_valid': 1, 'length': 2000, 'digital_amplitude': 1227.6, 'f_stimulus': 1000.0, 'f_sampling': 25000.0, 'stimulus_duration': 80.0, 'ADC_averaging_number': 1}\n",
      "\n",
      "--------------------------------------------\n",
      "Stimulus amplitude set to 0.600000\n",
      "\n",
      "Sampling frequency for measuremnt set to 25000.000000\n",
      "\n",
      "Stimulus DCValue set to 2048\n",
      "\n",
      "Stimulus frequency set to: 2000.000000\n",
      "\n",
      "Measure at frequency 2000\n",
      ".{'stimulus_parameters_valid': 1, 'length': 2000, 'digital_amplitude': 1227.6, 'f_stimulus': 2000.0, 'f_sampling': 25000.0, 'stimulus_duration': 80.0, 'ADC_averaging_number': 1}\n",
      "\n",
      "--------------------------------------------\n",
      "Stimulus amplitude set to 0.600000\n",
      "\n",
      "Sampling frequency for measuremnt set to 25000.000000\n",
      "\n",
      "Stimulus DCValue set to 2048\n",
      "\n",
      "Stimulus frequency set to: 3000.000000\n",
      "\n",
      "Measure at frequency 3000\n",
      ".{'stimulus_parameters_valid': 1, 'length': 2000, 'digital_amplitude': 1227.6, 'f_stimulus': 3000.0, 'f_sampling': 25000.0, 'stimulus_duration': 80.0, 'ADC_averaging_number': 1}\n",
      "\n",
      "--------------------------------------------\n",
      "Stimulus amplitude set to 0.600000\n",
      "\n",
      "Sampling frequency for measuremnt set to 25000.000000\n",
      "\n",
      "Stimulus DCValue set to 2048\n",
      "\n",
      "Stimulus frequency set to: 4000.000000\n",
      "\n",
      "Measure at frequency 4000\n",
      ".{'stimulus_parameters_valid': 1, 'length': 2000, 'digital_amplitude': 1227.6, 'f_stimulus': 4000.0, 'f_sampling': 25000.0, 'stimulus_duration': 80.0, 'ADC_averaging_number': 1}\n",
      "\n",
      "--------------------------------------------\n",
      "Stimulus amplitude set to 0.600000\n",
      "\n",
      "Sampling frequency for measuremnt set to 25000.000000\n",
      "\n",
      "Stimulus DCValue set to 2048\n",
      "\n",
      "Stimulus frequency set to: 5000.000000\n",
      "\n",
      "Measure at frequency 5000\n",
      ".{'stimulus_parameters_valid': 1, 'length': 2000, 'digital_amplitude': 1227.6, 'f_stimulus': 5000.0, 'f_sampling': 25000.0, 'stimulus_duration': 80.0, 'ADC_averaging_number': 1}\n",
      "\n",
      "--------------------------------------------\n",
      "[{'Z': 0j, 'Rs': 1960, 'f_stim': 0, 'f_samp': 25000, 'V1_1': 4704.035500000025, 'V1_2': 0.0, 'V1_0': 4704.035499999999, 'V2_1': 0.0, 'V2_2': 0.0, 'V2_0': 0.0}, {'Z': (1.037242552434852+3.4622815750158646j), 'Rs': 1960, 'f_stim': 1000, 'f_samp': 25000, 'V1_1': 1235.4233112486843, 'V1_2': 7408.618437370149, 'V1_0': 9417.122499999998, 'V2_1': 27.48179259257816, 'V2_2': 3.47668462256358, 'V2_0': 13.960499999999998}, {'Z': (1.4350706427702522+3.47038606619732j), 'Rs': 1960, 'f_stim': 2000, 'f_samp': 25000, 'V1_1': 1136.4146297765399, 'V1_2': 8025.425108625766, 'V1_0': 9417.208999999993, 'V2_1': 30.083835454583582, 'V2_2': 7.727810686266132, 'V2_0': 16.033999999999924}, {'Z': (1.8529527910256283+3.4161164636824566j), 'Rs': 1960, 'f_stim': 3000, 'f_samp': 25000, 'V1_1': 1011.9582342645474, 'V1_2': 8394.086242123336, 'V1_0': 9416.466499999988, 'V2_1': 31.173762289663056, 'V2_2': 12.3437534141042, 'V2_0': 18.030499999999943}, {'Z': (2.210290665106386+3.21151140031641j), 'Rs': 1960, 'f_stim': 4000, 'f_samp': 25000, 'V1_1': 863.9648658681954, 'V1_2': 8629.441079551418, 'V1_0': 9410.287999999993, 'V2_1': 30.22771620749642, 'V2_2': 16.63157147654033, 'V2_0': 19.685499999999955}, {'Z': (2.4711478497937893+2.8699495375336044j), 'Rs': 1960, 'f_stim': 5000, 'f_samp': 25000, 'V1_1': 720.8980832778223, 'V1_2': 8781.12996023611, 'V1_0': 9414.261500000004, 'V2_1': 27.533515935525056, 'V2_2': 20.031152346209428, 'V2_0': 21.04349999999995}]\n"
     ]
    }
   ],
   "source": [
    "'''\n",
    "Execute the measurements and save the results\n",
    "\n",
    "Here a correct frequency range (f_range) should be picked, for this you need \n",
    "to analyse the circuit to find some ballpark figures.\n",
    "\n",
    "Warning: frequencies used should adhere to the Shannon-Nyquist sampling theorem \n",
    "and they should respect the limitations of the acquisition electronics.\n",
    "\n",
    "Known problem: sometimes a growing list of dots is shown and no further progress. \n",
    "If that happens the workaround is to interrupt the kernel and run this cell again.\n",
    "''' \n",
    "\n",
    "f_max, f_step = 5001, 1000  # f_min is set to 0 below\n",
    "\n",
    "space_style = [None, 'linear', 'logarithmic', 'handcrafted'][1]\n",
    "\n",
    "if space_style == 'linear':\n",
    "    f_range = np.arange(0, f_max, f_step)\n",
    "elif space_style == 'logarithmic':\n",
    "    f_range = np.logspace(np.log10(1), np.log10(f_max), 6) # log(0) is not defined\n",
    "    f_range[0]= 0 # DC_value is important so put it back in\n",
    "elif space_style == 'handcrafted':\n",
    "    f_range = np.array([0,1,2,12,1212,])  # Just some handpicked values\n",
    "elif 'f_range' not in locals():\n",
    "    raise ValueError('f_range not initialized')\n",
    "\n",
    "spectrum = myEIS.measure_spectrum(f_range, \n",
    "                                  f_sampling = 25000, \n",
    "                                  Rs= 1960,)\n",
    "\n",
    "print(spectrum)\n",
    "\n",
    "np.savez('spectrum__Rs1960Ohm.npz',spectrum=spectrum, f_range=f_range)"
   ]
  },
  {
   "cell_type": "code",
   "execution_count": 33,
   "metadata": {
    "scrolled": false
   },
   "outputs": [
    {
     "name": "stdout",
     "output_type": "stream",
     "text": [
      "------------stimulus_parameters----------------\n",
      "{'stimulus_parameters_valid': 1, 'length': 2000, 'digital_amplitude': 1227.6, 'f_stimulus': 5000.0, 'f_sampling': 25000.0, 'stimulus_duration': 80.0, 'ADC_averaging_number': 1}\n",
      "-----------------------------------------------\n",
      "{'start': 0, 'end': 100, 'data': [14169, 15201, 11949, 2095, -32, 9022, 17037, 13180, 2955, 645, 9571, 17500, 13568, 3280, 935, 9821, 17725, 13744, 3463, 1086, 9963, 17838, 13880, 3557, 1180, 10049, 17908, 13940, 3610, 1227, 10074, 17942, 13963, 3635, 1250, 10104, 17966, 13990, 3658, 1270, 10123, 17972, 13990, 3661, 1267, 10124, 17986, 14004, 3676, 1275, 10138, 17981, 14008, 3674, 1281, 10130, 17998, 13998, 3681, 1278, 10145, 17987, 14004, 3677, 1285, 10155, 17998, 13997, 3682, 1275, 10139, 17994, 14012, 3684, 1285, 10143, 17994, 14012, 3681, 1289, 10128, 17998, 14000, 3679, 1287, 10134, 17994, 14012, 3692, 1281, 10139, 17998, 14000, 3682, 1284, 10143, 17994, 14006, 3683, 1291]}\n",
      "-----------------------------------------------\n",
      "{'start': 100, 'end': 200, 'data': [0, 0, 0, 0, 0, 0, 0, 0, 0, 0, 0, 0, 0, 0, 0, 0, 0, 0, 0, 0, 0, 0, 0, 0, 0, 0, 0, 0, 0, 0, 0, 0, 0, 0, 0, 0, 0, 0, 0, 0, 0, 0, 0, 0, 0, 0, 0, 0, 0, 0, 0, 0, 0, 0, 0, 0, 0, 0, 0, 0, 0, 0, 0, 0, 0, 0, 0, 0, 0, 0, 0, 0, 0, 0, 0, 0, 0, 0, 0, 0, 0, 0, 0, 0, 0, 0, 0, 0, 0, 0, 0, 0, 0, 0, 0, 0, 0, 0, 0, 0]}\n",
      "-----------------------------------------------\n",
      "{'start': 2001, 'end': 2000, 'data': []}\n",
      "-----------------------------------------------\n",
      "\n",
      "Populating the interactive namespace from numpy and matplotlib\n"
     ]
    },
    {
     "data": {
      "text/plain": [
       "[<matplotlib.lines.Line2D at 0x125644640>]"
      ]
     },
     "execution_count": 33,
     "metadata": {},
     "output_type": "execute_result"
    },
    {
     "data": {
      "image/png": "[encoded data removed]",
      "text/plain": [
       "<Figure size 432x288 with 2 Axes>"
      ]
     },
     "metadata": {
      "needs_background": "light"
     },
     "output_type": "display_data"
    }
   ],
   "source": [
    "'''\n",
    "Exposing some of the lower level functions used in te measurement below.\n",
    "Gives a peak into the last executed measurement on the teensy.\n",
    "'''\n",
    "stimulus_parameters = myEIS.get_stimulus_parameters()  \n",
    "print('------------stimulus_parameters----------------')\n",
    "print(stimulus_parameters) \n",
    "print('-----------------------------------------------')\n",
    "print(myEIS.get_data_slice(1, 0))\n",
    "print('-----------------------------------------------')\n",
    "print(myEIS.get_data_slice(2, 100))\n",
    "print('-----------------------------------------------')\n",
    "print(myEIS.get_data_slice(3, 2001))  \n",
    "# sleep(0.1)\n",
    "print('-----------------------------------------------')\n",
    "print(myEIS.get_and_print_responses())\n",
    "V1 = myEIS.get_data(stimulus_parameters, 1)\n",
    "V2 = myEIS.get_data(stimulus_parameters, 2)\n",
    "DAC = myEIS.get_data(stimulus_parameters, 3)\n",
    "\n",
    "\n",
    "%pylab inline\n",
    "\n",
    "plt.figure()\n",
    "#plt.plot(np.array(V1),np.array(V2),'g.')\n",
    "plt.subplot(2,1,1)\n",
    "plt.plot(np.array(V1),'go-')\n",
    "plt.subplot(2,1,2)\n",
    "plt.plot(np.array(V2),'ro-')\n",
    "#plt.plot(8*np.array(DAC), 'k.')"
   ]
  },
  {
   "cell_type": "code",
   "execution_count": 34,
   "metadata": {
    "scrolled": true
   },
   "outputs": [],
   "source": [
    "'''\n",
    "Load earlier acquired data from file\n",
    "'''\n",
    "\n",
    "reload_data = False\n",
    "if reload_data:\n",
    "    spectrum_storage=np.load('spectrum__Rs1960Ohm.npz')\n",
    "    spectrum = spectrum_storage['spectrum']\n",
    "    f_range=spectrum_storage['f_range']"
   ]
  },
  {
   "cell_type": "code",
   "execution_count": 35,
   "metadata": {},
   "outputs": [
    {
     "name": "stdout",
     "output_type": "stream",
     "text": [
      "Populating the interactive namespace from numpy and matplotlib\n",
      "[   0 1000 2000 3000 4000 5000] 1000 1.6e-07\n"
     ]
    },
    {
     "data": {
      "text/plain": [
       "[<matplotlib.lines.Line2D at 0x1258e9de0>]"
      ]
     },
     "execution_count": 35,
     "metadata": {},
     "output_type": "execute_result"
    },
    {
     "data": {
      "image/png": "[encoded data removed]",
      "text/plain": [
       "<Figure size 432x288 with 3 Axes>"
      ]
     },
     "metadata": {
      "needs_background": "light"
     },
     "output_type": "display_data"
    },
    {
     "data": {
      "image/png": "[encoded data removed]",
      "text/plain": [
       "<Figure size 432x288 with 3 Axes>"
      ]
     },
     "metadata": {
      "needs_background": "light"
     },
     "output_type": "display_data"
    },
    {
     "data": {
      "image/png": "[encoded data removed]",
      "text/plain": [
       "<Figure size 432x288 with 2 Axes>"
      ]
     },
     "metadata": {
      "needs_background": "light"
     },
     "output_type": "display_data"
    }
   ],
   "source": [
    "'''\n",
    "Create plots of the measured data and a theoretical one for a known circuit. \n",
    "\n",
    "This way you can compare measurements on a known testcircuit with theory.\n",
    "\n",
    "Todo: put info on axes.\n",
    "'''\n",
    "\n",
    "%pylab inline\n",
    "\n",
    "reals = [np.real(response['Z']) for response in spectrum]\n",
    "imaginaries = [np.imag(response['Z']) for response in spectrum]\n",
    "frequencies = np.array([response['f_stim'] for response in spectrum])\n",
    "\n",
    "R_testcircuit, C_testcircuit = 1000, 160*1e-9  # R in Ohm, C in Farad\n",
    "\n",
    "print(frequencies, R_testcircuit, C_testcircuit)\n",
    "Zomega = 1000/(1+1j*2*pi*frequencies*R_testcircuit*C_testcircuit)\n",
    "\n",
    "# print(Zomega)\n",
    "Zreals = [np.real(Z) for Z in Zomega]\n",
    "Zimaginaries = [np.imag(Z) for Z in Zomega]\n",
    "\n",
    "plt.figure()\n",
    "plt.subplot(3,1,1)\n",
    "plt.plot(reals, imaginaries,'.')\n",
    "\n",
    "plt.subplot(3,1,2)\n",
    "plt.plot(frequencies, reals,'.')\n",
    "\n",
    "plt.subplot(3,1,3)\n",
    "plt.plot(frequencies, imaginaries,'.')\n",
    "\n",
    "plt.figure()\n",
    "plt.subplot(3,1,2)\n",
    "plt.plot(frequencies, Zreals, '.')\n",
    "\n",
    "plt.subplot(3,1,3)\n",
    "plt.plot(frequencies, Zimaginaries,'.')\n",
    "\n",
    "plt.subplot(3,1,1)\n",
    "plt.plot(Zreals, Zimaginaries,'.')\n",
    "\n",
    "\n",
    "plt.figure()\n",
    "plt.subplot(1,2,1)\n",
    "plt.plot(Zreals, reals, '.')\n",
    "\n",
    "\n",
    "plt.subplot(1,2,2)\n",
    "plt.plot(Zimaginaries, imaginaries,'.')\n",
    "\n"
   ]
  },
  {
   "cell_type": "code",
   "execution_count": 38,
   "metadata": {},
   "outputs": [
    {
     "data": {
      "text/plain": [
       "[<matplotlib.lines.Line2D at 0x125946860>]"
      ]
     },
     "execution_count": 38,
     "metadata": {},
     "output_type": "execute_result"
    },
    {
     "data": {
      "image/png": "[encoded data removed]",
      "text/plain": [
       "<Figure size 432x288 with 1 Axes>"
      ]
     },
     "metadata": {
      "needs_background": "light"
     },
     "output_type": "display_data"
    }
   ],
   "source": [
    "# print(Zomega)\n",
    "Zreals = [np.real(Z) for Z in Zomega]\n",
    "Zimaginaries = [np.imag(Z) for Z in Zomega]\n",
    "\n",
    "plt.figure()\n",
    "plt.subplot(3,1,1)\n",
    "plt.plot(reals, imaginaries,'.')\n",
    "\n",
    "\n"
   ]
  },
  {
   "cell_type": "code",
   "execution_count": null,
   "metadata": {},
   "outputs": [],
   "source": []
  }
 ],
 "metadata": {
  "kernelspec": {
   "display_name": "Python 3 (ipykernel)",
   "language": "python",
   "name": "python3"
  },
  "language_info": {
   "codemirror_mode": {
    "name": "ipython",
    "version": 3
   },
   "file_extension": ".py",
   "mimetype": "text/x-python",
   "name": "python",
   "nbconvert_exporter": "python",
   "pygments_lexer": "ipython3",
   "version": "3.10.0"
  }
 },
 "nbformat": 4,
 "nbformat_minor": 4
}
